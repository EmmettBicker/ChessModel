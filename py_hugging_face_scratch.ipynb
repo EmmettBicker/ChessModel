{
 "cells": [
  {
   "cell_type": "code",
   "execution_count": 1,
   "metadata": {},
   "outputs": [],
   "source": [
    "import torch\n",
    "from py_hugging_face_model import ChessModelConfig, ChessModelHF\n",
    "from py_pytorch_chess_model import ChessModel\n",
    "\n",
    "default_config = ChessModelConfig()\n",
    "model = ChessModelHF(default_config)\n",
    "\n",
    "\n",
    "input_tokens=torch.zeros(1,512,dtype=torch.long)\n",
    "input_mask=torch.zeros(1,512,dtype=torch.long)\n",
    "input_mask[0,0] = 1\n",
    "input_tokens[0,0] = 348\n",
    "input_mask[0,1] = 1\n",
    "input_tokens[0,1] = 349"
   ]
  },
  {
   "cell_type": "code",
   "execution_count": 2,
   "metadata": {},
   "outputs": [],
   "source": [
    "x = model.forward(ChessModelHF.InputTypes.TOKENS, \n",
    "              input_tokens=input_tokens,\n",
    "              input_mask=input_mask\n",
    "              \n",
    "              )"
   ]
  },
  {
   "cell_type": "code",
   "execution_count": 2,
   "metadata": {},
   "outputs": [
    {
     "name": "stderr",
     "output_type": "stream",
     "text": [
      "C:\\Users\\bicke\\AppData\\Local\\Temp\\ipykernel_14888\\2672762391.py:2: FutureWarning: You are using `torch.load` with `weights_only=False` (the current default value), which uses the default pickle module implicitly. It is possible to construct malicious pickle data which will execute arbitrary code during unpickling (See https://github.com/pytorch/pytorch/blob/main/SECURITY.md#untrusted-models for more details). In a future release, the default value for `weights_only` will be flipped to `True`. This limits the functions that could be executed during unpickling. Arbitrary objects will no longer be allowed to be loaded via this mode unless they are explicitly allowlisted by the user via `torch.serialization.add_safe_globals`. We recommend you start setting `weights_only=True` for any use case where you don't have full control of the loaded file. Please open an issue on GitHub for any issues related to this experimental feature.\n",
      "  trained_pytorch_model.load_state_dict(torch.load(r\"C:\\Users\\bicke\\Documents\\GitHub\\cuda-samples\\checkpoints\\chess_model_epoch10_iter0.pt\")[\"model_state_dict\"])\n"
     ]
    },
    {
     "data": {
      "text/plain": [
       "<All keys matched successfully>"
      ]
     },
     "execution_count": 2,
     "metadata": {},
     "output_type": "execute_result"
    }
   ],
   "source": [
    "trained_pytorch_model = ChessModel(max_sequence_length=512)\n",
    "trained_pytorch_model.load_state_dict(torch.load(r\"C:\\Users\\bicke\\Documents\\GitHub\\cuda-samples\\checkpoints\\chess_model_epoch10_iter0.pt\")[\"model_state_dict\"])\n",
    "\n",
    "hf_model = ChessModelHF(config=default_config)\n",
    "hf_model.model.load_state_dict(trained_pytorch_model.state_dict())\n",
    "\n"
   ]
  },
  {
   "cell_type": "code",
   "execution_count": 3,
   "metadata": {},
   "outputs": [],
   "source": [
    "x = hf_model.forward(ChessModelHF.InputTypes.TEXT_LS, \n",
    "            input_text_ls=[\"Nf3 d5 g3 Nc6 Bg2 e5 d3 Nf6 Bf5 Re1 Qd7 Nh4 Bg6 e3 Nc3 Bb4 Bd2 Bf5 Nf5 Qf5 a3 Bc5 Qe2 h5 Qf1 g5 e4 e4 Ne4 h4 Nc5 g3 g3\"],\n",
    "            input_mask=None\n",
    "            )"
   ]
  },
  {
   "cell_type": "code",
   "execution_count": 8,
   "metadata": {},
   "outputs": [],
   "source": [
    "hf_model.save_pretrained(\"chess_model_hf/\")"
   ]
  },
  {
   "cell_type": "code",
   "execution_count": 9,
   "metadata": {},
   "outputs": [
    {
     "ename": "ModuleNotFoundError",
     "evalue": "No module named 'vllm'",
     "output_type": "error",
     "traceback": [
      "\u001b[1;31m---------------------------------------------------------------------------\u001b[0m",
      "\u001b[1;31mModuleNotFoundError\u001b[0m                       Traceback (most recent call last)",
      "Cell \u001b[1;32mIn[9], line 1\u001b[0m\n\u001b[1;32m----> 1\u001b[0m \u001b[38;5;28;01mimport\u001b[39;00m \u001b[38;5;21;01mvllm\u001b[39;00m\n",
      "\u001b[1;31mModuleNotFoundError\u001b[0m: No module named 'vllm'"
     ]
    }
   ],
   "source": [
    "import vllm"
   ]
  },
  {
   "cell_type": "code",
   "execution_count": null,
   "metadata": {},
   "outputs": [],
   "source": []
  }
 ],
 "metadata": {
  "kernelspec": {
   "display_name": "megatron",
   "language": "python",
   "name": "python3"
  },
  "language_info": {
   "codemirror_mode": {
    "name": "ipython",
    "version": 3
   },
   "file_extension": ".py",
   "mimetype": "text/x-python",
   "name": "python",
   "nbconvert_exporter": "python",
   "pygments_lexer": "ipython3",
   "version": "3.12.5"
  }
 },
 "nbformat": 4,
 "nbformat_minor": 2
}
